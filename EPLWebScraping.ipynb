{
  "nbformat": 4,
  "nbformat_minor": 0,
  "metadata": {
    "colab": {
      "provenance": [],
      "authorship_tag": "ABX9TyPT/Ie4w3w2W3VZPipH+r2+",
      "include_colab_link": true
    },
    "kernelspec": {
      "name": "python3",
      "display_name": "Python 3"
    },
    "language_info": {
      "name": "python"
    }
  },
  "cells": [
    {
      "cell_type": "markdown",
      "metadata": {
        "id": "view-in-github",
        "colab_type": "text"
      },
      "source": [
        "<a href=\"https://colab.research.google.com/github/rjathan7/EPL/blob/main/EPLWebScraping.ipynb\" target=\"_parent\"><img src=\"https://colab.research.google.com/assets/colab-badge.svg\" alt=\"Open In Colab\"/></a>"
      ]
    },
    {
      "cell_type": "code",
      "execution_count": 4,
      "metadata": {
        "id": "H5_kvbvSj5Kn"
      },
      "outputs": [],
      "source": [
        "import requests"
      ]
    },
    {
      "cell_type": "code",
      "source": [
        "standings_url = \"https://fbref.com/en/comps/9/Premier-League-Stats\""
      ],
      "metadata": {
        "id": "aPEvqFlrlph1"
      },
      "execution_count": 5,
      "outputs": []
    },
    {
      "cell_type": "code",
      "source": [
        "data = requests.get(standings_url) # makes request to server and downloads the html of this page"
      ],
      "metadata": {
        "id": "XjnKB7E0lqn-"
      },
      "execution_count": 6,
      "outputs": []
    },
    {
      "cell_type": "code",
      "source": [
        "from bs4 import BeautifulSoup # to parse through HTML"
      ],
      "metadata": {
        "id": "fZAKk5bKmVaw"
      },
      "execution_count": 8,
      "outputs": []
    },
    {
      "cell_type": "code",
      "source": [
        "soup = BeautifulSoup(data.text) # initialize it using the HTML"
      ],
      "metadata": {
        "id": "HSNtFCQAnfzg"
      },
      "execution_count": 9,
      "outputs": []
    },
    {
      "cell_type": "code",
      "source": [
        "standings_table = soup.select('table.stats_table')[0] # selects any table elements in the page that have the class called stats_table, [0] because we only want the first one"
      ],
      "metadata": {
        "id": "7j8aPRwtn7Ek"
      },
      "execution_count": 11,
      "outputs": []
    },
    {
      "cell_type": "code",
      "source": [
        "links = standings_table.find_all('a') # finds all the a tags in the table\n",
        "# find all only finds tags whereas select finds stuff like classes and ids"
      ],
      "metadata": {
        "id": "c5GwFpm_okPI"
      },
      "execution_count": 14,
      "outputs": []
    },
    {
      "cell_type": "code",
      "source": [
        "links = [l.get(\"href\") for l in links] # goes through each of the a elements and finds the value of the href property"
      ],
      "metadata": {
        "id": "ucB7nG7CpGT4"
      },
      "execution_count": 18,
      "outputs": []
    },
    {
      "cell_type": "code",
      "source": [
        "links = [l for l in links if '/squads/' in l] # filters links so we only have the squad links"
      ],
      "metadata": {
        "id": "099DpTS2qDmE"
      },
      "execution_count": 19,
      "outputs": []
    },
    {
      "cell_type": "code",
      "source": [
        "team_urls = [f\"https://fbref.com{l}\" for l in links] # takes all the links and adds the string to the front so they can become urls"
      ],
      "metadata": {
        "id": "0JOhVJlnqazf"
      },
      "execution_count": 22,
      "outputs": []
    },
    {
      "cell_type": "code",
      "source": [
        "team_url = team_urls[0] # gets the first team"
      ],
      "metadata": {
        "id": "EjI_JQiTrNiK"
      },
      "execution_count": 24,
      "outputs": []
    },
    {
      "cell_type": "code",
      "source": [
        "data = requests.get(team_url) # gets the html from the url"
      ],
      "metadata": {
        "id": "oFmOgzQWreua"
      },
      "execution_count": 25,
      "outputs": []
    },
    {
      "cell_type": "code",
      "source": [
        "import pandas as pd\n",
        "\n",
        "matches = pd.read_html(data.text, match=\"Scores & Fixtures\") # turn the fixtures table for the team into a pandas dataframe. Scanning all the table tags and looking for one with the string 'scores & fixtures'"
      ],
      "metadata": {
        "id": "D3cNig9Zrt4W"
      },
      "execution_count": 27,
      "outputs": []
    },
    {
      "cell_type": "code",
      "source": [
        "matches[0]"
      ],
      "metadata": {
        "id": "TIpyDHurs7BJ"
      },
      "execution_count": null,
      "outputs": []
    },
    {
      "cell_type": "code",
      "source": [
        "soup = BeautifulSoup(data.text)"
      ],
      "metadata": {
        "id": "D9EW3wMAtwC8"
      },
      "execution_count": 30,
      "outputs": []
    },
    {
      "cell_type": "code",
      "source": [
        "links = soup.find_all('a') # this is for the shooting stats"
      ],
      "metadata": {
        "id": "d6wbvQR2t2yB"
      },
      "execution_count": 31,
      "outputs": []
    },
    {
      "cell_type": "code",
      "source": [
        "links = [l.get(\"href\") for l in links]"
      ],
      "metadata": {
        "id": "IYjn4E2ouFWB"
      },
      "execution_count": 32,
      "outputs": []
    },
    {
      "cell_type": "code",
      "source": [
        "links = [l for l in links if l and 'all_comps/shooting/' in l] # looks for any links that have the element 'all_comps/shooting/' in them"
      ],
      "metadata": {
        "id": "1fo3czJ3uTYb"
      },
      "execution_count": 34,
      "outputs": []
    },
    {
      "cell_type": "code",
      "source": [
        "data = requests.get(f\"https://fbref.com{links[0]}\") # grab the html for the specific link"
      ],
      "metadata": {
        "id": "qoiXquimux4a"
      },
      "execution_count": 37,
      "outputs": []
    },
    {
      "cell_type": "code",
      "source": [
        "shooting = pd.read_html(data.text, match=\"Shooting\")[0] # turns the shooting table into a pandas dataframe"
      ],
      "metadata": {
        "id": "gMEwfa0owS3a"
      },
      "execution_count": 39,
      "outputs": []
    }
  ]
}